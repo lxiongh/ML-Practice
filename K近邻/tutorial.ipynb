{
 "cells": [
  {
   "cell_type": "markdown",
   "metadata": {},
   "source": [
    "## 三要素\n",
    "\n",
    "- k 值选择\n",
    "- 距离度量  （如欧氏距离）\n",
    "- 分类策略  （多数表决）\n",
    "\n",
    "## 实现\n",
    "\n",
    "kd Tree\n",
    "\n",
    "### 算法\n",
    "\n",
    "输入：$T = {x_1, x_2, \\cdots, x_N}$\n",
    "\n",
    "其中 $x_i = \\left(x_i^{(1)},x_i^{(2)},\\cdots, x_i^{(m)}\\right), i \\in 1,2,\\cdots,N$\n",
    "\n",
    "输出：kd 树\n",
    "\n",
    "（1）开始：构造根节点，选择 $x^{(1)}$ 为坐标轴，$T$ 中所有数据 $x^{(1)}$ 的中位数为切分点，\n",
    "切分为两个区域，切分由节点切分点并与坐标轴 $x^{(1)}$ 垂直的超平面实现。\n",
    "小于切分点的数据在左边，大于切分点的数据在右边，落在超平面上的数据保存在根节点。\n",
    "\n",
    "（2）重复：深度为 $j$ 的结点，选择 $x^{(l)}$ 为切分的坐标轴，其中 $l=j \\% m + 1$，所有节点数据 $x^{(l)}$\n",
    "的中位数为切分点，如（1）中生成 $j+1$ 深度的左右节点\n",
    "\n",
    "（3）结束：直到左右节点没有数据可分，返回 kd 树"
   ]
  },
  {
   "cell_type": "code",
   "execution_count": null,
   "metadata": {},
   "outputs": [],
   "source": [
    "class Node:\n",
    "    left = None\n",
    "    right = None\n",
    "    data = None"
   ]
  }
 ],
 "metadata": {
  "kernelspec": {
   "display_name": "Python 3",
   "language": "python",
   "name": "python3"
  },
  "language_info": {
   "codemirror_mode": {
    "name": "ipython",
    "version": 3
   },
   "file_extension": ".py",
   "mimetype": "text/x-python",
   "name": "python",
   "nbconvert_exporter": "python",
   "pygments_lexer": "ipython3",
   "version": "3.5.2"
  }
 },
 "nbformat": 4,
 "nbformat_minor": 2
}
