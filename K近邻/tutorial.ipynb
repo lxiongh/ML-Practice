{
 "cells": [
  {
   "cell_type": "markdown",
   "metadata": {},
   "source": [
    "## 三要素\n",
    "\n",
    "- k 值选择\n",
    "- 距离度量  （如欧氏距离）\n",
    "- 分类策略  （多数表决）\n",
    "\n",
    "## 实现\n",
    "\n",
    "kd Tree\n",
    "\n",
    "### 算法\n",
    "\n",
    "输入：$T = {x_1, x_2, \\cdots, x_N}$\n",
    "\n",
    "其中 $x_i = \\left(x_i^{(1)},x_i^{(2)},\\cdots, x_i^{(m)}\\right), i \\in 1,2,\\cdots,N$\n",
    "\n",
    "输出：kd 树\n",
    "\n",
    "（1）开始：构造根节点，选择 $x^{(1)}$ 为坐标轴，$T$ 中所有数据 $x^{(1)}$ 的中位数为切分点，\n",
    "切分为两个区域，切分由节点切分点并与坐标轴 $x^{(1)}$ 垂直的超平面实现。\n",
    "小于切分点的数据在左边，大于切分点的数据在右边，落在超平面上的数据保存在根节点。\n",
    "\n",
    "（2）重复：深度为 $j$ 的结点，选择 $x^{(l)}$ 为切分的坐标轴，其中 $l=j \\% m + 1$，所有节点数据 $x^{(l)}$\n",
    "的中位数为切分点，如（1）中生成 $j+1$ 深度的左右节点\n",
    "\n",
    "（3）结束：直到左右节点没有数据可分，返回 kd 树"
   ]
  },
  {
   "cell_type": "code",
   "execution_count": 89,
   "metadata": {},
   "outputs": [],
   "source": [
    "import numpy as np\n",
    "def build_kdtree(X, depth=0):\n",
    "    \n",
    "    N,m = X.shape\n",
    "    j = depth % m\n",
    "    \n",
    "    if N == 0:\n",
    "        return None\n",
    "    \n",
    "    Xj_sort_index = np.argsort(X[:,j])\n",
    "    Xl_index = Xj_sort_index[0:int(N/2)]\n",
    "    Xr_index = Xj_sort_index[int(N/2)+1:]\n",
    "    Xc_index = Xj_sort_index[int(N/2)]\n",
    "    \n",
    "    Xl_data = X[Xl_index,:]\n",
    "    Xr_data = X[Xr_index,:]\n",
    "    Xc_data = X[Xc_index,:]\n",
    "    \n",
    "    return {\n",
    "        \"point\": Xc_data,\n",
    "        \"left\": build_kdtree(Xl_data,depth+1),\n",
    "        \"right\": build_kdtree(Xr_data,depth+1)\n",
    "    }\n",
    "\n",
    "def distince(p1,p2):\n",
    "    return np.sqrt(np.sum((p1-p2)**2))\n",
    "\n",
    "\n",
    "def kd_tree_native_closest_point(root, point, best=None, depth=0):\n",
    "    \n",
    "    if root is None:\n",
    "        return best\n",
    "    \n",
    "    if best is None or distince(point,best) > distince(point,root['point']):\n",
    "        best= root['point']\n",
    "    \n",
    "    j = depth % len(point)\n",
    "    if point[j] < root['point'][j]:\n",
    "        next_root = root['left']\n",
    "    else:\n",
    "        next_root = root['right']\n",
    "    \n",
    "    return kd_tree_native_closest_point(next_root, point, best, depth+1)\n",
    "    \n",
    "    "
   ]
  },
  {
   "cell_type": "code",
   "execution_count": 92,
   "metadata": {},
   "outputs": [
    {
     "data": {
      "text/plain": [
       "array([ 9, 10])"
      ]
     },
     "execution_count": 92,
     "metadata": {},
     "output_type": "execute_result"
    }
   ],
   "source": [
    "X = np.array([[3,4],[1,7],[5,7],[2,9],[8,2],[9,10]])\n",
    "kdtree = build_kdtree(X)\n",
    "kd_tree_native_closest_point(kdtree, np.array([8,9]))"
   ]
  },
  {
   "cell_type": "code",
   "execution_count": null,
   "metadata": {},
   "outputs": [],
   "source": []
  }
 ],
 "metadata": {
  "kernelspec": {
   "display_name": "Python 3",
   "language": "python",
   "name": "python3"
  },
  "language_info": {
   "codemirror_mode": {
    "name": "ipython",
    "version": 3
   },
   "file_extension": ".py",
   "mimetype": "text/x-python",
   "name": "python",
   "nbconvert_exporter": "python",
   "pygments_lexer": "ipython3",
   "version": "3.5.2"
  }
 },
 "nbformat": 4,
 "nbformat_minor": 2
}
